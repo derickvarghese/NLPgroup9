{
 "cells": [
  {
   "cell_type": "code",
   "execution_count": null,
   "metadata": {},
   "outputs": [],
   "source": [
    "def word2vec(docs):\n",
    "    import gensim.downloader as api\n",
    "    import numpy as np\n",
    "\n",
    "    wv = api.load('word2vec-google-news-300')\n",
    "\n",
    "    vector_size = wv.vector_size\n",
    "    wv_res = np.zeros(vector_size)\n",
    "\n",
    "    counter = 1\n",
    "    for word in docs:\n",
    "        if word in wv:\n",
    "            counter += 1\n",
    "            wv_res += wv[word]\n",
    "\n",
    "    wv_res = wv_res/counter\n",
    "    return wv_res"
   ]
  }
 ],
 "metadata": {
  "kernelspec": {
   "display_name": "coursework",
   "language": "python",
   "name": "python3"
  },
  "language_info": {
   "name": "python",
   "version": "3.11.4"
  },
  "orig_nbformat": 4
 },
 "nbformat": 4,
 "nbformat_minor": 2
}
